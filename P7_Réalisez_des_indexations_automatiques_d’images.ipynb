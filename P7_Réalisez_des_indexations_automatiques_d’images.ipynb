{
  "nbformat": 4,
  "nbformat_minor": 0,
  "metadata": {
    "colab": {
      "name": "P7_Réalisez des indexations automatiques d’images.ipynb",
      "provenance": [],
      "authorship_tag": "ABX9TyNgy+bH5h6ME/st+oRcBcv9"
    },
    "kernelspec": {
      "name": "python3",
      "display_name": "Python 3"
    },
    "language_info": {
      "name": "python"
    }
  },
  "cells": [
    {
      "cell_type": "code",
      "metadata": {
        "id": "gmatJMSUgDz8"
      },
      "source": [
        ""
      ],
      "execution_count": null,
      "outputs": []
    }
  ]
}